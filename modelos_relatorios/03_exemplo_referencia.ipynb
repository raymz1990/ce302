{
  "cells": [
    {
      "cell_type": "markdown",
      "metadata": {},
      "source": [
        "```{latex}\n",
        "@article{knuth84,\n",
        "  author = {Knuth, Donald E.},\n",
        "  title = {Literate Programming},\n",
        "  year = {1984},\n",
        "  issue_date = {May 1984},\n",
        "  publisher = {Oxford University Press, Inc.},\n",
        "  address = {USA},\n",
        "  volume = {27},\n",
        "  number = {2},\n",
        "  issn = {0010-4620},\n",
        "  url = {https://doi.org/10.1093/comjnl/27.2.97},\n",
        "  doi = {10.1093/comjnl/27.2.97},\n",
        "  journal = {Comput. J.},\n",
        "  month = may,\n",
        "  pages = {97–111},\n",
        "  numpages = {15}\n",
        "}\n",
        "\n",
        "\n",
        "\n",
        "@book{wickham2016,\n",
        "\ttitle = {R for Data Science: Import, Tidy, Transform, Visualize, and Model Data},\n",
        "\tauthor = {Wickham, H. and Grolemund, G.},\n",
        "\tyear = {2016},\n",
        "\tdate = {2016},\n",
        "\tpublisher = {O'Reilly Media},\n",
        "\turl = {https://books.google.com.br/books?id=vfi3DQAAQBAJ},\n",
        "\tnote = {LCCN: 2017300238}\n",
        "}\n",
        "\n",
        "```"
      ],
      "id": "41fd4332"
    }
  ],
  "metadata": {
    "kernelspec": {
      "display_name": "Python 3",
      "language": "python",
      "name": "python3"
    }
  },
  "nbformat": 4,
  "nbformat_minor": 5
}